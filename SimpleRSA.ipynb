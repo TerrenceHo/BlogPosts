{
 "cells": [
  {
   "cell_type": "code",
   "execution_count": 21,
   "metadata": {
    "collapsed": true
   },
   "outputs": [],
   "source": [
    "import random"
   ]
  },
  {
   "cell_type": "code",
   "execution_count": 14,
   "metadata": {
    "collapsed": true
   },
   "outputs": [],
   "source": [
    "def gcd(a, b):\n",
    "    while b:\n",
    "        a, b = b, a%b\n",
    "    return a"
   ]
  },
  {
   "cell_type": "code",
   "execution_count": 22,
   "metadata": {
    "collapsed": false
   },
   "outputs": [
    {
     "data": {
      "text/plain": [
       "4"
      ]
     },
     "execution_count": 22,
     "metadata": {},
     "output_type": "execute_result"
    }
   ],
   "source": [
    "gcd(12, 8)"
   ]
  },
  {
   "cell_type": "code",
   "execution_count": 23,
   "metadata": {
    "collapsed": false
   },
   "outputs": [
    {
     "name": "stdout",
     "output_type": "stream",
     "text": [
      "True\n",
      "True\n",
      "True\n",
      "True\n",
      "True\n",
      "True\n",
      "True\n",
      "True\n",
      "True\n",
      "True\n",
      "True\n"
     ]
    }
   ],
   "source": [
    "def carmichael(n):\n",
    "    coprimes = []\n",
    "    for x in range(1, n):\n",
    "        if gcd(x,n) == 1:\n",
    "            coprimes.append(x)\n",
    "    k = 1\n",
    "    while not all(pow(x, k, n) == 1 for x in coprimes):\n",
    "        k += 1\n",
    "    return k\n",
    "\n",
    "print(carmichael(1    ) == 1    )\n",
    "print(carmichael(2    ) == 1    )\n",
    "print(carmichael(3    ) == 2    )\n",
    "print(carmichael(10   ) == 4    )\n",
    "print(carmichael(35   ) == 12   )\n",
    "print(carmichael(101  ) == 100  )\n",
    "print(carmichael(530  ) == 52   )\n",
    "print(carmichael(3233 ) == 780  )\n",
    "print(carmichael(3010 ) == 84   )\n",
    "print(carmichael(6511 ) == 3056 )\n",
    "print(carmichael(10000) == 500  )"
   ]
  },
  {
   "cell_type": "code",
   "execution_count": 33,
   "metadata": {
    "collapsed": false
   },
   "outputs": [
    {
     "name": "stdout",
     "output_type": "stream",
     "text": [
      "True\n"
     ]
    }
   ],
   "source": [
    "def modInverse(e, phi):\n",
    "    if phi == 1:\n",
    "        return\n",
    "    \n",
    "    phi_t = phi\n",
    "    x0 = 0\n",
    "    x1 = 1\n",
    "    \n",
    "    while e > 1:\n",
    "        q = e // phi\n",
    "        e, phi = phi, e % phi\n",
    "#         temp = phi\n",
    "#         phi = a % phi\n",
    "#         a = temp\n",
    "        x1, x0 = x0, x1 - q * x0\n",
    "    if x1 < 0:\n",
    "        x1 = x1 + phi_t\n",
    "    return x1\n",
    "print(modInverse(3, 11) == 4)"
   ]
  },
  {
   "cell_type": "code",
   "execution_count": 48,
   "metadata": {
    "collapsed": false
   },
   "outputs": [
    {
     "name": "stdout",
     "output_type": "stream",
     "text": [
      "((3, 33), (7, 33))\n"
     ]
    }
   ],
   "source": [
    "\"\"\"\n",
    "input: p, q are two prime numbers\n",
    "output: key pair (public, private)\n",
    "\n",
    "Compute product of two primes -> n\n",
    "Find the totient (phi) of the product n -> phi\n",
    "Generate a random int e\n",
    "    If e is not coprime to n, regenerate e\n",
    "Find multiplicative inverse of random number e and totient phi -> d\n",
    "public key -> (e, n)\n",
    "private key -> (d, n)\n",
    "\"\"\"\n",
    "def gen_key_pair(p, q):\n",
    "    n = p * q\n",
    "    phi = carmichael(n)\n",
    "    \n",
    "    e = random.randint(1, phi)\n",
    "    while gcd(e, phi) != 1:\n",
    "        e = random.randint(1,phi)\n",
    "    d = modInverse(e, phi)\n",
    "    \n",
    "    public = (e, n)\n",
    "    private = (d, n)\n",
    "    return public, private\n",
    "print(gen_key_pair(11, 3))"
   ]
  },
  {
   "cell_type": "code",
   "execution_count": null,
   "metadata": {
    "collapsed": true
   },
   "outputs": [],
   "source": []
  }
 ],
 "metadata": {
  "anaconda-cloud": {},
  "kernelspec": {
   "display_name": "Python [conda root]",
   "language": "python",
   "name": "conda-root-py"
  },
  "language_info": {
   "codemirror_mode": {
    "name": "ipython",
    "version": 3
   },
   "file_extension": ".py",
   "mimetype": "text/x-python",
   "name": "python",
   "nbconvert_exporter": "python",
   "pygments_lexer": "ipython3",
   "version": "3.5.2"
  }
 },
 "nbformat": 4,
 "nbformat_minor": 1
}
