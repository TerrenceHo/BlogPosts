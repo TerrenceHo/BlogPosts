{
 "cells": [
  {
   "cell_type": "markdown",
   "metadata": {},
   "source": [
    "# Using Functional Programming to Encapsulate Behavior\n",
    "\n",
    "Many coders have heard of the term \"functional programming\", but have often never really used it or its properties.  Especially if they came from Java, where there are no real functions, only methods (each function has to be attached to an object, and cannot stand by itself). Functions are commomly thought of as defining behavior. However, if you were to think of functions as data, limitations like having to attach a method to an object to define behavior goes away.  \n",
    "\n",
    "To give an example of this, we will implement a calculator.  We will start with a more object oriented version, and then progressively replace functionality of the calculator with functional parts, while maintaining the same overall goal of having a calculator.\n",
    "\n",
    "\n",
    "\n",
    "We want it to be able to Add, Subtract, and Multiply.  Let's define a _Calculator_ object to hold our accumulated value during calculations.  We'll also define a _Do_ method to compute an action."
   ]
  },
  {
   "cell_type": "code",
   "execution_count": 2,
   "metadata": {
    "collapsed": true
   },
   "outputs": [],
   "source": [
    "import math\n",
    "\n",
    "class Calculator(object):\n",
    "    def __init__(self):\n",
    "        self.acc = 0.0\n",
    "    \n",
    "    def Do(self, opt, v):\n",
    "        if opt == 'Add':\n",
    "            self.acc += v\n",
    "        elif opt == 'Sub':\n",
    "            self.acc -= v\n",
    "        elif opt == 'Mul':\n",
    "            self.acc *= v\n",
    "        else:\n",
    "            print(\"Undefined Operation\")\n",
    "        \n",
    "        return self.acc"
   ]
  },
  {
   "cell_type": "markdown",
   "metadata": {},
   "source": [
    "The _Do_ method takes in a string _opt_ to determine which operation to conduct, and a value  _v_ (float or int).  It currently has three actions, and returns the accumulated value once it is done computing the value. "
   ]
  },
  {
   "cell_type": "code",
   "execution_count": 3,
   "metadata": {
    "collapsed": false
   },
   "outputs": [
    {
     "name": "stdout",
     "output_type": "stream",
     "text": [
      "100.0\n",
      "50.0\n",
      "100.0\n"
     ]
    }
   ],
   "source": [
    "c = Calculator()\n",
    "print(c.Do(\"Add\", 100))\n",
    "print(c.Do(\"Sub\", 50))\n",
    "print(c.Do(\"Mul\", 2))"
   ]
  },
  {
   "cell_type": "markdown",
   "metadata": {},
   "source": [
    "Our _Calculator_ is quite limited as of right now.  It can't really do much.  If we wanted to add some other functionality to the calculator, such as calculating the square root of the accumulated value, it would require adding another ```elif``` to the _Do_ method.\n",
    "\n",
    "We would have to add another conditional for _every_ operation we wanted to do.  This is not maintainable in the long run, and not user friendly.  If the user wanted to define his or her own operation to use with the calculator, they would have to edit the source code itself.  Let's see if we can move functionality outside of the Do method.  Let's rewrite our calculator a little bit."
   ]
  },
  {
   "cell_type": "code",
   "execution_count": 4,
   "metadata": {
    "collapsed": true
   },
   "outputs": [],
   "source": [
    "class Calculator(object):\n",
    "    def __init__(self):\n",
    "        self.acc = 0.0\n",
    "    \n",
    "    def Do(self, opfunc, v):\n",
    "        \n",
    "        self.acc = opfunc(self.acc, v)\n",
    "        return self.acc"
   ]
  },
  {
   "cell_type": "markdown",
   "metadata": {},
   "source": [
    "What this calculator does is to take in an operation function, as well as the previous value _v_.  Whenever Do is called, it calls the operation we pass in, using the accumulated value the Calculator object holds and and value _v_ passed in.  Now we can redefine our previous _Add_, _Sub_, and _Mul_ functions.\n",
    "\n",
    "New operation functions can be defined with the schema\n",
    "```\n",
    "def Opt(value_a, value_b):\n",
    "    return operation\n",
    "```"
   ]
  },
  {
   "cell_type": "code",
   "execution_count": 5,
   "metadata": {
    "collapsed": true
   },
   "outputs": [],
   "source": [
    "def Add(a, b):\n",
    "    return a + b\n",
    "\n",
    "def Sub(a, b):\n",
    "    return a - b\n",
    "\n",
    "def Mul(a, b):\n",
    "    return a * b"
   ]
  },
  {
   "cell_type": "markdown",
   "metadata": {},
   "source": [
    "To use this calculator, all we have to do is pass in the function to the _Do_ method.  This makes it very simple to define new operation functions and utilize them."
   ]
  },
  {
   "cell_type": "code",
   "execution_count": 6,
   "metadata": {
    "collapsed": false
   },
   "outputs": [
    {
     "name": "stdout",
     "output_type": "stream",
     "text": [
      "5.0\n",
      "2.0\n",
      "16.0\n"
     ]
    }
   ],
   "source": [
    "c = Calculator()\n",
    "print(c.Do(Add, 5))\n",
    "print(c.Do(Sub, 3))\n",
    "print(c.Do(Mul, 8))"
   ]
  },
  {
   "cell_type": "markdown",
   "metadata": {},
   "source": [
    "# Extending the Calculator\n",
    "\n",
    "Now let's add some harder functions.  We want to write a _Sqrt_ function now.  "
   ]
  },
  {
   "cell_type": "code",
   "execution_count": 7,
   "metadata": {
    "collapsed": true
   },
   "outputs": [],
   "source": [
    "def Sqrt(a, _):\n",
    "    return math.sqrt(a)"
   ]
  },
  {
   "cell_type": "markdown",
   "metadata": {},
   "source": [
    "Here is where our code got a little ugly.  _Sqrt_ doesn't need an extra value _v_ because it only acts on the accumulated value.  Which is why we have an underscore variable _ in place of v for the second parameter, because we ignore the input value _v_ anyway.  "
   ]
  },
  {
   "cell_type": "code",
   "execution_count": 8,
   "metadata": {
    "collapsed": false
   },
   "outputs": [
    {
     "name": "stdout",
     "output_type": "stream",
     "text": [
      "4.0\n"
     ]
    }
   ],
   "source": [
    "print(c.Do(Sqrt, 0)) # Last operand ignored"
   ]
  },
  {
   "cell_type": "markdown",
   "metadata": {},
   "source": [
    "'This occurs because our defined schema for the _Do_ method is rather restricting.  What if an operation only needs one parameter?  How about 3 parameters?  With the _Sqrt_ we could just ignore a parameter, but that's more of a hack than a real solution.  And notice that our _Sqrt_ function was really just a wrapper for the ```math.sqrt(a)``` from the standard library.  It would be more efficient and better if we could just pass in the ```math.sqrt(a)``` function to the _Do_ method instead.\n",
    "\n",
    "Let's rewrite our operation functions from a function that takes two parameters and returns a value to a function that returns a function.  This returned function will take a value and return a value."
   ]
  },
  {
   "cell_type": "code",
   "execution_count": 9,
   "metadata": {
    "collapsed": true
   },
   "outputs": [],
   "source": [
    "def Add(v):\n",
    "    def operation(acc):\n",
    "        return acc + v\n",
    "    return operation"
   ]
  },
  {
   "cell_type": "markdown",
   "metadata": {},
   "source": [
    "We also need to update our _Do_ method.  _Do_ now takes in a function that takes in one value and returns a value."
   ]
  },
  {
   "cell_type": "code",
   "execution_count": 10,
   "metadata": {
    "collapsed": true
   },
   "outputs": [],
   "source": [
    "class Calculator(object):\n",
    "    def __init__(self):\n",
    "        self.acc = 0.0\n",
    "    \n",
    "    def Do(self, opfunc): \n",
    "        self.acc = opfunc(self.acc)\n",
    "        return self.acc"
   ]
  },
  {
   "cell_type": "code",
   "execution_count": 11,
   "metadata": {
    "collapsed": false
   },
   "outputs": [
    {
     "name": "stdout",
     "output_type": "stream",
     "text": [
      "10.0\n",
      "30.0\n"
     ]
    }
   ],
   "source": [
    "c = Calculator()\n",
    "print(c.Do(Add(10)))\n",
    "print(c.Do(Add(20)))\n",
    "# print(c.Do(Mul, 8))"
   ]
  },
  {
   "cell_type": "markdown",
   "metadata": {},
   "source": [
    "When calling _Do_, we don't call it with the _Add_ function itself, but the result of evaluating _Add(10)_.  The type of evaluating _Add(10)_ is a function that takes in a value and returning a value.  \n",
    "\n",
    "What specifically is returned when we call _Add(10)_?  The result of the function looks like this\n",
    "\n",
    "```\n",
    "def operation(acc):\n",
    "    return acc + 10\n",
    "```\n",
    "\n",
    "It returns a function that will only add ten to the variable _acc_.  If you did _Add(20)_ instead it would return a function that adds 20 to _acc_.\n",
    "\n",
    "```\n",
    "def operation(acc):\n",
    "    return acc + 20\n",
    "```\n",
    "\n",
    "Thus we can easily define other functions like this as well."
   ]
  },
  {
   "cell_type": "code",
   "execution_count": 12,
   "metadata": {
    "collapsed": true
   },
   "outputs": [],
   "source": [
    "def Sub(v):\n",
    "    def operation(acc):\n",
    "        return acc - v\n",
    "    return operation\n",
    "\n",
    "def Mul(v):\n",
    "    def operation(acc):\n",
    "        return acc * v\n",
    "    return operation"
   ]
  },
  {
   "cell_type": "code",
   "execution_count": 13,
   "metadata": {
    "collapsed": false
   },
   "outputs": [
    {
     "name": "stdout",
     "output_type": "stream",
     "text": [
      "5.0\n",
      "2.0\n",
      "16.0\n"
     ]
    }
   ],
   "source": [
    "c = Calculator()\n",
    "print(c.Do(Add(5)))\n",
    "print(c.Do(Sub(3)))\n",
    "print(c.Do(Mul(8)))"
   ]
  },
  {
   "cell_type": "markdown",
   "metadata": {},
   "source": [
    "Now how would we implement _Sqrt_?  It's quite simple now."
   ]
  },
  {
   "cell_type": "code",
   "execution_count": 14,
   "metadata": {
    "collapsed": false
   },
   "outputs": [
    {
     "name": "stdout",
     "output_type": "stream",
     "text": [
      "5.0\n",
      "2.0\n",
      "16.0\n",
      "4.0\n"
     ]
    }
   ],
   "source": [
    "def Sqrt():\n",
    "    def operation(acc):\n",
    "        return math.sqrt(acc)\n",
    "    return operation\n",
    "\n",
    "c = Calculator()\n",
    "print(c.Do(Add(5)))\n",
    "print(c.Do(Sub(3)))\n",
    "print(c.Do(Mul(8)))\n",
    "print(c.Do(Sqrt()))"
   ]
  },
  {
   "cell_type": "markdown",
   "metadata": {},
   "source": [
    "Our implementation avoids the awkardness of having to ignore an input variable.  But again _Sqrt_ is just a wrapper of ```math.sqrt(acc)```, so we can simply put that into the calculator instead.  We can also implement different operations with any number of inputs."
   ]
  },
  {
   "cell_type": "code",
   "execution_count": 15,
   "metadata": {
    "collapsed": false
   },
   "outputs": [
    {
     "name": "stdout",
     "output_type": "stream",
     "text": [
      "5.0\n",
      "2.0\n",
      "16.0\n",
      "4.0\n",
      "-0.6536436208636119\n",
      "248830.03906913742\n"
     ]
    }
   ],
   "source": [
    "def Crazy(a, b, c, d, e):\n",
    "    def operation(acc):\n",
    "        return (((a + b) * d) ** e) + (c * acc )\n",
    "    return operation\n",
    "\n",
    "c = Calculator()\n",
    "print(c.Do(Add(5)))\n",
    "print(c.Do(Sub(3)))\n",
    "print(c.Do(Mul(8)))\n",
    "print(c.Do(math.sqrt))\n",
    "print(c.Do(math.cos))\n",
    "print(c.Do(Crazy(1,2,3,4,5)))"
   ]
  },
  {
   "cell_type": "markdown",
   "metadata": {},
   "source": [
    "Lastly, if we wanted to, we could get rid of the object _Calculator_ and simply have a closure function instead.  This makes our implementation nearly entirely purely functional.  We need the ```nonlocal``` statement to indicate that ```acc``` is not within the score of the inner function.\n",
    "\n",
    "Note that because Calculator actually makes sense as an object (it's a noun), it would be better to leave it as an object.  However, this is just to show that closures can take the place of objects and can even be better."
   ]
  },
  {
   "cell_type": "code",
   "execution_count": 16,
   "metadata": {
    "collapsed": false
   },
   "outputs": [
    {
     "name": "stdout",
     "output_type": "stream",
     "text": [
      "5.0\n",
      "2.0\n",
      "16.0\n",
      "-0.9576594803233847\n",
      "248829.12702155902\n"
     ]
    }
   ],
   "source": [
    "def Calculate():\n",
    "    acc = 0.0\n",
    "    def Do(opfunc): \n",
    "        nonlocal acc\n",
    "        acc = opfunc(acc)\n",
    "        return acc\n",
    "    return Do\n",
    "    \n",
    "c = Calculate()\n",
    "print(c(Add(5)))\n",
    "print(c(Sub(3)))\n",
    "print(c(Mul(8)))\n",
    "print(c(math.cos))\n",
    "print(c(Crazy(1,2,3,4,5)))"
   ]
  },
  {
   "cell_type": "markdown",
   "metadata": {},
   "source": [
    "# Conclusion\n",
    "\n",
    "We went from a hard coded layered if statement to a function model, wherein we can pass in any function with any number of parameters to computer an accumulated value.  This kind of abstraction is the kind that can only be offered by functional programming.   \n",
    "\n",
    "Why is this useful?  Well, come see next the next blog post, where we'll go over using functions to define API configurations."
   ]
  }
 ],
 "metadata": {
  "anaconda-cloud": {},
  "kernelspec": {
   "display_name": "Python [conda root]",
   "language": "python",
   "name": "conda-root-py"
  },
  "language_info": {
   "codemirror_mode": {
    "name": "ipython",
    "version": 3
   },
   "file_extension": ".py",
   "mimetype": "text/x-python",
   "name": "python",
   "nbconvert_exporter": "python",
   "pygments_lexer": "ipython3",
   "version": "3.5.2"
  }
 },
 "nbformat": 4,
 "nbformat_minor": 1
}
