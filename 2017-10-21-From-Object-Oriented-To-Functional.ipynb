{
 "cells": [
  {
   "cell_type": "markdown",
   "metadata": {},
   "source": [
    "# Using Functional Programming to Encapsulate Behavior\n",
    "\n",
    "Many coders have heard of the term \"functional programming\", but have often never really used it or its properties.  Especially if they came from Java, where there are no real functions, only methods each function has to be attached to an object, and cannot stand by itself. Functions are commomly thought of as defining behavior. However, functions can also be thought of as data, instead of just instructions.  They are data that define your instructions.\n",
    "\n",
    "You can manipulate functions like other types of data.  You can pass it around, alter functions, and use functions to manipulate other data.  If you were to think of functions as data, limitations like having to attach a method to an object to define behavior goes away.  \n",
    "\n",
    "In this first blog post, we shall experiment with treating functions as data that can define behavior.  To give an example of this, we will implement a calculator.  We will start with a more object oriented version to contrast object oriented vs functional, and then progressively replace functionality of the calculator with functional parts, while maintaining the same overall goal of having a calculator.\n",
    "\n",
    "We want it to be able to Add, Subtract, and Multiply.  Let's define a _Calculator_ object to hold our accumulated value during calculations.  An accumulated value is simply so we can remember the previous value for successive operations.  $1+2=3$, then three is the accumulated value.  Our next operation will use $3$ and a another number.  We'll also define a _Do_ method to compute an action."
   ]
  },
  {
   "cell_type": "code",
   "execution_count": 2,
   "metadata": {
    "collapsed": true
   },
   "outputs": [],
   "source": [
    "import math\n",
    "\n",
    "class Calculator(object):\n",
    "    def __init__(self):\n",
    "        self.acc = 0.0\n",
    "    \n",
    "    def Do(self, opt, v):\n",
    "        if opt == 'Add':\n",
    "            self.acc += v\n",
    "        elif opt == 'Sub':\n",
    "            self.acc -= v\n",
    "        elif opt == 'Mul':\n",
    "            self.acc *= v\n",
    "        else:\n",
    "            print(\"Undefined Operation\")\n",
    "        \n",
    "        return self.acc"
   ]
  },
  {
   "cell_type": "markdown",
   "metadata": {},
   "source": [
    "Above we have defined a _Calculator_ object.  It has a _Do_ method takes in a string _opt_ to determine which operation to conduct, and a value  _v_ float or int.  It currently has three actions, and returns the accumulated value once it is done computing the value. Below is an example of usage."
   ]
  },
  {
   "cell_type": "code",
   "execution_count": 3,
   "metadata": {
    "collapsed": false
   },
   "outputs": [
    {
     "name": "stdout",
     "output_type": "stream",
     "text": [
      "100.0\n",
      "50.0\n",
      "100.0\n"
     ]
    }
   ],
   "source": [
    "c = Calculator()\n",
    "print(c.Do(\"Add\", 100))\n",
    "print(c.Do(\"Sub\", 50))\n",
    "print(c.Do(\"Mul\", 2))"
   ]
  },
  {
   "cell_type": "markdown",
   "metadata": {},
   "source": [
    "Our _Calculator_ is quite limited as of right now.  It can't really do much.  If we wanted to add some other functionality to the calculator, such as calculating the square root of the accumulated value, it would require adding another ```elif``` to the _Do_ method.\n",
    "\n",
    "We would have to add another conditional for _every_ operation we wanted to do.  This is not maintainable in the long run, and not user friendly.  If the user wanted to define his or her own operation to use with the calculator, they would have to edit the source code itself.  \n",
    "\n",
    "Let's see if we can move functionality outside of the Do method.  Let's rewrite our calculator a little bit, but this time using a slightly more functional style.  "
   ]
  },
  {
   "cell_type": "code",
   "execution_count": 4,
   "metadata": {
    "collapsed": true
   },
   "outputs": [],
   "source": [
    "class Calculator(object):\n",
    "    def __init__(self):\n",
    "        self.acc = 0.0\n",
    "    \n",
    "    def Do(self, opfunc, v):\n",
    "        \n",
    "        self.acc = opfunc(self.acc, v)\n",
    "        return self.acc"
   ]
  },
  {
   "cell_type": "markdown",
   "metadata": {},
   "source": [
    "Now we have changed our calculator a bit.  _Do_ is much simpler now, and takes in two standard parameters, _opfunc_ and _v_.  What this calculator does is to take in an operation function _opfunc_, as well as the previous value _v_.  Whenever Do is called, it calls the operation we pass in, using the accumulated value the Calculator object holds and and value _v_ passed in to compute a value.  For example, an adding function would take \n",
    "```\n",
    "self.acc + v\n",
    "``` \n",
    "and return the value.\n",
    "\n",
    "Taking a moment to digest this, the _Do_ method simply takes a function and executes it.  It doesn't take in a number value, but takes a function, evaulates that function using _v_, and returns the computed value.  The advantage of this is that functionality has moved outside the _Do_ method inside the calculator.  Now the _Do_ method only \"does\" a function that we supply it.   \n",
    "\n",
    "We can now redefine our previous _Add_, _Sub_, and _Mul_ functions.  These are the functions that we pass into _Do_.  Examples are given below.  \n",
    "\n",
    "New operation functions must follow the schema below.  It requires two numerical inputs and returns one computed value.\n",
    "```\n",
    "def Opt(value_a, value_b):\n",
    "    return operation\n",
    "```"
   ]
  },
  {
   "cell_type": "code",
   "execution_count": 5,
   "metadata": {
    "collapsed": true
   },
   "outputs": [],
   "source": [
    "def Add(a, b):\n",
    "    return a + b\n",
    "\n",
    "def Sub(a, b):\n",
    "    return a - b\n",
    "\n",
    "def Mul(a, b):\n",
    "    return a * b"
   ]
  },
  {
   "cell_type": "markdown",
   "metadata": {},
   "source": [
    "Our _Add_, _Sub_, and _Mul_ function all follow the above schema.  Take a moment to verify this.\n",
    "\n",
    "To use this calculator, all we have to do is pass in the function to the _Do_ method.  This makes it very simple to define new operation functions and utilize them.  Below is an example.  The numerical outputs are still the same as before with the pre-defined if-statements."
   ]
  },
  {
   "cell_type": "code",
   "execution_count": 6,
   "metadata": {
    "collapsed": false
   },
   "outputs": [
    {
     "name": "stdout",
     "output_type": "stream",
     "text": [
      "5.0\n",
      "2.0\n",
      "16.0\n"
     ]
    }
   ],
   "source": [
    "c = Calculator()\n",
    "print(c.Do(Add, 5))\n",
    "print(c.Do(Sub, 3))\n",
    "print(c.Do(Mul, 8))"
   ]
  },
  {
   "cell_type": "markdown",
   "metadata": {},
   "source": [
    "# Extending the Calculator\n",
    "\n",
    "Let's say some user wanted a square root function.  Easy, we just define another function!   "
   ]
  },
  {
   "cell_type": "code",
   "execution_count": 7,
   "metadata": {
    "collapsed": true
   },
   "outputs": [],
   "source": [
    "def Sqrt(a, _):\n",
    "    return math.sqrt(a)"
   ]
  },
  {
   "cell_type": "markdown",
   "metadata": {},
   "source": [
    "Here is where our code got a little ugly.  _Sqrt_ doesn't need an extra value _v_ because it only acts on the accumulated value.  Previously, all of our operations required two numbers to use, _v_ and the accumulated value.  This is why we have an underscore variable _ in place of v for the second parameter, because we ignore the input value _v_ anyway.  An example of using _Sqrt_ is below."
   ]
  },
  {
   "cell_type": "code",
   "execution_count": 8,
   "metadata": {
    "collapsed": false
   },
   "outputs": [
    {
     "name": "stdout",
     "output_type": "stream",
     "text": [
      "4.0\n"
     ]
    }
   ],
   "source": [
    "print(c.Do(Sqrt, 0)) # Last operand ignored"
   ]
  },
  {
   "cell_type": "markdown",
   "metadata": {},
   "source": [
    "The _Sqrt_ function currently requires the user to ignore the second operand, which is a bit clunky.  We should clean this up.\n",
    "\n",
    "This problem occurs because our defined schema for the _Do_ method is rather restricting. It requires that we have two numerical inputs. What if an operation only needs one parameter like _Sqrt_?  How about 3 parameters?  With the _Sqrt_ we could just ignore a parameter, but that's more of a hack than a real solution.  And notice that our _Sqrt_ function was really just a wrapper for the ```math.sqrt(a)``` from the standard library.  It would be more efficient and cleaner if we could just pass in the ```math.sqrt(a)``` function to the _Do_ method instead.\n",
    "\n",
    "Things get a bit more complicated now.  Let's rewrite our operation functions from a function that takes two parameters and returns a value to a function that returns a function.  This returned function will take a value and return a value.  An example of an _Add_ function is defined below."
   ]
  },
  {
   "cell_type": "code",
   "execution_count": 9,
   "metadata": {
    "collapsed": true
   },
   "outputs": [],
   "source": [
    "def Add(v):\n",
    "    def operation(acc):\n",
    "        return acc + v\n",
    "    return operation"
   ]
  },
  {
   "cell_type": "markdown",
   "metadata": {},
   "source": [
    "We also need to update our _Do_ method.  _Do_ now takes in a function that takes in one value and returns a value."
   ]
  },
  {
   "cell_type": "code",
   "execution_count": 10,
   "metadata": {
    "collapsed": true
   },
   "outputs": [],
   "source": [
    "class Calculator(object):\n",
    "    def __init__(self):\n",
    "        self.acc = 0.0\n",
    "    \n",
    "    def Do(self, opfunc): \n",
    "        self.acc = opfunc(self.acc)\n",
    "        return self.acc"
   ]
  },
  {
   "cell_type": "markdown",
   "metadata": {},
   "source": [
    "Why does our _Add_ function return a function?  Here's the cool part about passing around functions as data.  We can modify a function before it is executed.  Let's give an example about how the add function would play out.  \n",
    "\n",
    "Let's try ```Add(10)```.  _Add_ sets _v_ equal to $10$.  It defines a function called _operation_ that takes in a second value _acc_ and adds it to _v_.  Then add returns _operation_.\n",
    "\n",
    "What specifically is returned when we call ```Add(10)```?  The result of the function looks like this\n",
    "```\n",
    "def operation(acc):\n",
    "    return acc + 10\n",
    "```\n",
    "\n",
    "```Add(10)``` returns a function that adds $10$ to _acc_.  ```Add(9)``` would return a function that adds $9$ to _acc_.  \n",
    "\n",
    "```\n",
    "def operation(acc):\n",
    "    return acc + 9\n",
    "```\n",
    "Let's see how adding works with _Do_ now."
   ]
  },
  {
   "cell_type": "code",
   "execution_count": 11,
   "metadata": {
    "collapsed": false
   },
   "outputs": [
    {
     "name": "stdout",
     "output_type": "stream",
     "text": [
      "10.0\n",
      "30.0\n"
     ]
    }
   ],
   "source": [
    "c = Calculator()\n",
    "print(c.Do(Add(10)))\n",
    "print(c.Do(Add(20)))"
   ]
  },
  {
   "cell_type": "markdown",
   "metadata": {},
   "source": [
    "When calling _Do_, we don't call it with the ```Add``` function itself, but the result of evaluating ```Add(10)```.  The type of evaluating ```Add(10)``` is a function that takes in a value and returning a value. We are calling the operation function that is returned by ```Add(10)```.  \n",
    "_Do_ then passes in ```self.acc``` into the operation function to add $10$ to ```self.acc```.\n",
    "\n",
    "We can define other functions in a similiar style.  Thus we can easily define other functions like this as well."
   ]
  },
  {
   "cell_type": "code",
   "execution_count": 12,
   "metadata": {
    "collapsed": true
   },
   "outputs": [],
   "source": [
    "def Sub(v):\n",
    "    def operation(acc):\n",
    "        return acc - v\n",
    "    return operation\n",
    "\n",
    "def Mul(v):\n",
    "    def operation(acc):\n",
    "        return acc * v\n",
    "    return operation"
   ]
  },
  {
   "cell_type": "code",
   "execution_count": 13,
   "metadata": {
    "collapsed": false
   },
   "outputs": [
    {
     "name": "stdout",
     "output_type": "stream",
     "text": [
      "5.0\n",
      "2.0\n",
      "16.0\n"
     ]
    }
   ],
   "source": [
    "c = Calculator()\n",
    "print(c.Do(Add(5)))\n",
    "print(c.Do(Sub(3)))\n",
    "print(c.Do(Mul(8)))"
   ]
  },
  {
   "cell_type": "markdown",
   "metadata": {},
   "source": [
    "Now how would we implement _Sqrt_?  It's quite simple now."
   ]
  },
  {
   "cell_type": "code",
   "execution_count": 14,
   "metadata": {
    "collapsed": false
   },
   "outputs": [
    {
     "name": "stdout",
     "output_type": "stream",
     "text": [
      "5.0\n",
      "2.0\n",
      "16.0\n",
      "4.0\n"
     ]
    }
   ],
   "source": [
    "def Sqrt():\n",
    "    def operation(acc):\n",
    "        return math.sqrt(acc)\n",
    "    return operation\n",
    "\n",
    "c = Calculator()\n",
    "print(c.Do(Add(5)))\n",
    "print(c.Do(Sub(3)))\n",
    "print(c.Do(Mul(8)))\n",
    "print(c.Do(Sqrt()))"
   ]
  },
  {
   "cell_type": "markdown",
   "metadata": {},
   "source": [
    "Our implementation avoids the awkardness of having to ignore an input variable.  But again _Sqrt_ is just a wrapper of ```math.sqrt(acc)```, so we can simply put that into the calculator instead.  \n",
    "\n",
    "We can get real crazy and also implement different operations with any number of inputs.  Examples below."
   ]
  },
  {
   "cell_type": "code",
   "execution_count": 15,
   "metadata": {
    "collapsed": false
   },
   "outputs": [
    {
     "name": "stdout",
     "output_type": "stream",
     "text": [
      "5.0\n",
      "2.0\n",
      "16.0\n",
      "4.0\n",
      "-0.6536436208636119\n",
      "248830.03906913742\n"
     ]
    }
   ],
   "source": [
    "def Crazy(a, b, c, d, e):\n",
    "    def operation(acc):\n",
    "        return (((a + b) * d) ** e) + (c * acc )\n",
    "    return operation\n",
    "\n",
    "c = Calculator()\n",
    "print(c.Do(Add(5)))\n",
    "print(c.Do(Sub(3)))\n",
    "print(c.Do(Mul(8)))\n",
    "print(c.Do(math.sqrt))\n",
    "print(c.Do(math.cos))\n",
    "print(c.Do(Crazy(1,2,3,4,5)))"
   ]
  },
  {
   "cell_type": "markdown",
   "metadata": {},
   "source": [
    "# Recap\n",
    "We removed if statements from our _Calculator_ object and went to an object that took in a function to evaluate.  But while this model was more flexible in that functions could be easily defined outside the _Calculator_ and passed in, it could only take in two parameters.  \n",
    "\n",
    "To fix that problem, we adjusted our functions a little bit.  Instead, we created functions that return functions that compute an operation.  This allowed us to\n",
    "\n",
    "# Bonus\n",
    "If we wanted to, we could get rid of the object _Calculator_ and simply have a closure function instead.  This makes our implementation nearly entirely purely functional.  We need the ```nonlocal``` statement to indicate that ```acc``` is not within the score of the inner function.\n",
    "\n",
    "Note that because Calculator actually makes sense as an object since it's a noun, it would be better to leave it as an object.  However, this is just to show that closures can take the place of objects and can even be better."
   ]
  },
  {
   "cell_type": "code",
   "execution_count": 16,
   "metadata": {
    "collapsed": false
   },
   "outputs": [
    {
     "name": "stdout",
     "output_type": "stream",
     "text": [
      "5.0\n",
      "2.0\n",
      "16.0\n",
      "-0.9576594803233847\n",
      "248829.12702155902\n"
     ]
    }
   ],
   "source": [
    "def Calculate():\n",
    "    acc = 0.0\n",
    "    def Do(opfunc): \n",
    "        nonlocal acc\n",
    "        acc = opfunc(acc)\n",
    "        return acc\n",
    "    return Do\n",
    "    \n",
    "c = Calculate()\n",
    "print(c(Add(5)))\n",
    "print(c(Sub(3)))\n",
    "print(c(Mul(8)))\n",
    "print(c(math.cos))\n",
    "print(c(Crazy(1,2,3,4,5)))"
   ]
  },
  {
   "cell_type": "markdown",
   "metadata": {},
   "source": [
    "# Conclusion\n",
    "\n",
    "We went from a hard coded layered if statement to a function model, wherein we can pass in any function with any number of parameters to computer an accumulated value.  This kind of abstraction is the kind that can only be offered by functional programming.   \n",
    "\n",
    "Why is this useful?  Well, come see next the next blog post, where we'll go over using functions to define API configurations."
   ]
  }
 ],
 "metadata": {
  "anaconda-cloud": {},
  "kernelspec": {
   "display_name": "Python [conda root]",
   "language": "python",
   "name": "conda-root-py"
  },
  "language_info": {
   "codemirror_mode": {
    "name": "ipython",
    "version": 3
   },
   "file_extension": ".py",
   "mimetype": "text/x-python",
   "name": "python",
   "nbconvert_exporter": "python",
   "pygments_lexer": "ipython3",
   "version": "3.5.2"
  }
 },
 "nbformat": 4,
 "nbformat_minor": 1
}
