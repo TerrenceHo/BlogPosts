{
 "cells": [
  {
   "cell_type": "markdown",
   "metadata": {},
   "source": [
    "[Last time](https://terrenceho.github.io/functional/2017/10/21/From-Object-Oriented-To-Functional/), we went over using functions to define behavior.  Now for a more practical example, we'll discuss a pattern to define options of a class or API, one that can grow without bloat and is easly discoverable.\n",
    "\n",
    "A simple way to define configurations is just to set a bunch of configuration parameters.  \n",
    "\n",
    "TODO:\n",
    "Define function schema 1 for Python\n",
    "```\n",
    "def FunctionName(parameters):\n",
    "    def ConfigOperation(f):\n",
    "        // modify f...\n",
    "    return ConfigOperation\n",
    "```\n",
    "Define function schema 2 for Python, for optional types and return prev value\n",
    "```\n",
    "def FunctionName(parameters):\n",
    "    def ConfigOperation(f):\n",
    "        // retrieve and store previous value\n",
    "        // modify f...\n",
    "        // return previous value\n",
    "    return ConfigOperation\n",
    "```\n",
    "\n",
    "Define function schema 3 for Python, for optional types, and allows you to return the last args previous value\n",
    "```\n",
    "def FunctionName(parameters):\n",
    "    def ConfigOperation(f):\n",
    "        // retrieve and store previous value\n",
    "        // modify f...\n",
    "        // return FunctionName(previous value)\n",
    "    return ConfigOperation\n",
    "```"
   ]
  },
  {
   "cell_type": "code",
   "execution_count": 1,
   "metadata": {
    "collapsed": true
   },
   "outputs": [],
   "source": [
    "class Foo(object):\n",
    "    # Calls Options function and passes in function args, to allow reuseability\n",
    "    def __init__(self, *args):\n",
    "        self.verbosity = 0\n",
    "        # allocate variables\n",
    "        self.Options(*args)\n",
    "            \n",
    "    def Options(self, *args):\n",
    "        for func in args:\n",
    "            func(self)"
   ]
  },
  {
   "cell_type": "code",
   "execution_count": 2,
   "metadata": {
    "collapsed": false
   },
   "outputs": [
    {
     "name": "stdout",
     "output_type": "stream",
     "text": [
      "5\n"
     ]
    }
   ],
   "source": [
    "def Verbosity(v):\n",
    "    def ConfigOperation(f):\n",
    "        f.verbosity = v\n",
    "    return ConfigOperation\n",
    "\n",
    "f = Foo(Verbosity(5))\n",
    "print(f.verbosity)"
   ]
  },
  {
   "cell_type": "code",
   "execution_count": 3,
   "metadata": {
    "collapsed": false
   },
   "outputs": [
    {
     "name": "stdout",
     "output_type": "stream",
     "text": [
      "5\n"
     ]
    }
   ],
   "source": [
    "def Verbosity(v):\n",
    "    def ConfigOperation(f):\n",
    "        prev = f.verbosity\n",
    "        f.verbosity = v\n",
    "        return prev\n",
    "    return ConfigOperation\n",
    "\n",
    "f = Foo(Verbosity(5))\n",
    "print(f.verbosity)"
   ]
  },
  {
   "cell_type": "code",
   "execution_count": 4,
   "metadata": {
    "collapsed": false
   },
   "outputs": [
    {
     "name": "stdout",
     "output_type": "stream",
     "text": [
      "5\n"
     ]
    }
   ],
   "source": [
    "def Verbosity(v):\n",
    "    def ConfigOperation(f):\n",
    "        prev = f.verbosity\n",
    "        f.verbosity = v\n",
    "        return Verbosity(prev)\n",
    "    return ConfigOperation\n",
    "\n",
    "f = Foo(Verbosity(5))\n",
    "print(f.verbosity)"
   ]
  },
  {
   "cell_type": "markdown",
   "metadata": {},
   "source": [
    "Let's say we want to make a server module.  It starts out pretty simple."
   ]
  },
  {
   "cell_type": "code",
   "execution_count": null,
   "metadata": {
    "collapsed": false
   },
   "outputs": [
    {
     "name": "stdout",
     "output_type": "stream",
     "text": [
      "Serving HTTP on port 8080 ...\n",
      "GET / HTTP/1.1\n",
      "Host: localhost:8080\n",
      "Accept: text/html,application/xhtml+xml,application/xml;q=0.9,*/*;q=0.8\n",
      "Upgrade-Insecure-Requests: 1\n",
      "Cookie: _ga=GA1.1.1281775909.1508703278\n",
      "User-Agent: Mozilla/5.0 (Macintosh; Intel Mac OS X 10_12_5) AppleWebKit/603.2.4 (KHTML, like Gecko) Version/10.1.1 Safari/603.2.4\n",
      "Accept-Language: en-us\n",
      "Accept-Encoding: gzip, deflate\n",
      "Connection: keep-alive\n",
      "\n",
      "\n"
     ]
    }
   ],
   "source": [
    "import socket\n",
    "    \n",
    "class Server(object):\n",
    "    def __init__(self, HOST, PORT):\n",
    "        self.HOST = HOST\n",
    "        self.PORT = PORT\n",
    "        \n",
    "        \n",
    "    def listen(self):\n",
    "        self.listen_socket = socket.socket(socket.AF_INET, socket.SOCK_STREAM)\n",
    "        self.listen_socket.setsockopt(socket.SOL_SOCKET, socket.SO_REUSEADDR, 1)\n",
    "        self.listen_socket.bind((self.HOST, self.PORT))\n",
    "        self.listen_socket.listen(1)\n",
    "        print('Serving HTTP on port %s ...' % self.PORT)\n",
    "        while True:\n",
    "            client_connection, client_address = self.listen_socket.accept()\n",
    "            request = client_connection.recv(1024)\n",
    "            print(request.decode('utf-8'))\n",
    "            http_response = \"\"\"\\\n",
    "HTTP/1.1 200 OK\n",
    "\n",
    "Hello, World!\n",
    "\"\"\"\n",
    "            client_connection.sendall(http_response.encode('utf-8'))\n",
    "            client_connection.close()\n",
    "            \n",
    "newServer = Server(\"localhost\", 8080) # Listen on localhost, port 8080\n",
    "newServer.listen()"
   ]
  },
  {
   "cell_type": "markdown",
   "metadata": {},
   "source": [
    "The server is simple.  It listens on the specified address and port for a connection, andThere's a problem... As soon as you release this module, it blows up in popularity, and the once simple configuration becomes long and ugly."
   ]
  },
  {
   "cell_type": "code",
   "execution_count": null,
   "metadata": {
    "collapsed": true
   },
   "outputs": [],
   "source": []
  }
 ],
 "metadata": {
  "anaconda-cloud": {},
  "kernelspec": {
   "display_name": "Python [conda root]",
   "language": "python",
   "name": "conda-root-py"
  },
  "language_info": {
   "codemirror_mode": {
    "name": "ipython",
    "version": 3
   },
   "file_extension": ".py",
   "mimetype": "text/x-python",
   "name": "python",
   "nbconvert_exporter": "python",
   "pygments_lexer": "ipython3",
   "version": "3.5.2"
  }
 },
 "nbformat": 4,
 "nbformat_minor": 1
}
